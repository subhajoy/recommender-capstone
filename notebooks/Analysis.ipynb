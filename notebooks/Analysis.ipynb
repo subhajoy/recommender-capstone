{
 "cells": [
  {
   "cell_type": "code",
   "execution_count": 96,
   "metadata": {},
   "outputs": [
    {
     "name": "stdout",
     "output_type": "stream",
     "text": [
      "<class 'pandas.core.frame.DataFrame'>\n",
      "RangeIndex: 53258 entries, 0 to 53257\n",
      "Data columns (total 3 columns):\n",
      "user      53258 non-null int64\n",
      "item      53258 non-null int64\n",
      "rating    53258 non-null float64\n",
      "dtypes: float64(1), int64(2)\n",
      "memory usage: 1.2 MB\n",
      "None\n",
      "<class 'pandas.core.frame.DataFrame'>\n",
      "RangeIndex: 2420 entries, 0 to 2419\n",
      "Data columns (total 9 columns):\n",
      "asin            2420 non-null object\n",
      "availability    2420 non-null float64\n",
      "brand           1939 non-null object\n",
      "categories      2420 non-null object\n",
      "description     2381 non-null object\n",
      "id              2420 non-null int32\n",
      "imUrl           2420 non-null object\n",
      "name            2417 non-null object\n",
      "price           2354 non-null float64\n",
      "dtypes: float64(2), int32(1), object(6)\n",
      "memory usage: 160.8+ KB\n",
      "None\n"
     ]
    }
   ],
   "source": [
    "import os\n",
    "\n",
    "base_dir = os.path.dirname(os.path.dirname(os.path.abspath('__file__')))\n",
    "data_dir = os.path.join(base_dir,'data')\n",
    "raw_data_dir = os.path.join(data_dir,'raw')\n",
    "\n",
    "import pandas as pd\n",
    "\n",
    "df_items = pd.read_json(os.path.join(raw_data_dir,'items.json'), lines=True) \\\n",
    "                                    .drop('salesRank',axis=1)\n",
    "df_items[['id']] = df_items[['id']].astype(int)\n",
    "\n",
    "df_ratings = pd.read_csv(os.path.join(raw_data_dir,'ratings.csv'), sep=',', header=0)\n",
    "\n",
    "print(df_ratings.info())\n",
    "print(df_items.info())"
   ]
  },
  {
   "cell_type": "code",
   "execution_count": 97,
   "metadata": {
    "collapsed": true
   },
   "outputs": [],
   "source": [
    "assert df_items.shape[0] == len(df_ratings['item'].unique())"
   ]
  },
  {
   "cell_type": "code",
   "execution_count": 98,
   "metadata": {},
   "outputs": [],
   "source": [
    "ratings_grp_by_items = df_ratings.groupby(df_ratings['item'], group_keys=False)\n",
    "df_ratings_items_count = ratings_grp_by_items.count().drop(['user'], axis=1) \\\n",
    "                                .rename(index=str, columns={'rating':'count'}) \\\n",
    "                                .reset_index()\n",
    "df_ratings_items_count[['item']] = df_ratings_items_count[['item']].astype(int)\n",
    "\n",
    "df_items = df_items.set_index('id', verify_integrity=True) \\\n",
    "                    .join(df_ratings_items_count.set_index('item')) \\\n",
    "                    .reset_index()"
   ]
  },
  {
   "cell_type": "markdown",
   "metadata": {},
   "source": [
    "### Price Levels Analysis"
   ]
  },
  {
   "cell_type": "code",
   "execution_count": 99,
   "metadata": {},
   "outputs": [
    {
     "data": {
      "text/plain": [
       "<matplotlib.axes._subplots.AxesSubplot at 0x15c7c070f60>"
      ]
     },
     "execution_count": 99,
     "metadata": {},
     "output_type": "execute_result"
    },
    {
     "data": {
      "image/png": "[encoded data removed]",
      "text/plain": [
       "<matplotlib.figure.Figure at 0x15c7c6067f0>"
      ]
     },
     "metadata": {},
     "output_type": "display_data"
    }
   ],
   "source": [
    "%matplotlib inline\n",
    "import matplotlib\n",
    "import matplotlib.pyplot as plt\n",
    "\n",
    "df_items['price'].hist(bins=40)"
   ]
  },
  {
   "cell_type": "code",
   "execution_count": 100,
   "metadata": {},
   "outputs": [
    {
     "name": "stdout",
     "output_type": "stream",
     "text": [
      "25% quantile: 7.672499999999999\n",
      "50% quantile: 15.465\n",
      "75% quantile: 54.845\n",
      "100% quantile: 999.99\n"
     ]
    }
   ],
   "source": [
    "for i in range(1,5):\n",
    "    j=0.25*i\n",
    "    print(\"{}% quantile: {}\".format(int(100*j), df_items['price'].quantile(j)))"
   ]
  },
  {
   "cell_type": "code",
   "execution_count": null,
   "metadata": {
    "collapsed": true
   },
   "outputs": [],
   "source": []
  }
 ],
 "metadata": {
  "kernelspec": {
   "display_name": "Python 3",
   "language": "python",
   "name": "python3"
  },
  "language_info": {
   "codemirror_mode": {
    "name": "ipython",
    "version": 3
   },
   "file_extension": ".py",
   "mimetype": "text/x-python",
   "name": "python",
   "nbconvert_exporter": "python",
   "pygments_lexer": "ipython3",
   "version": "3.6.2"
  }
 },
 "nbformat": 4,
 "nbformat_minor": 2
}
