{
 "cells": [
  {
   "cell_type": "code",
   "execution_count": 64,
   "metadata": {},
   "outputs": [],
   "source": [
    "import os\n",
    "\n",
    "base_dir = os.path.dirname(os.path.dirname(os.path.abspath('__file__')))\n",
    "data_dir = os.path.join(base_dir,'data')\n",
    "raw_data_dir = os.path.join(data_dir,'raw')\n",
    "\n",
    "import pandas as pd\n",
    "\n",
    "df_items = pd.read_json(os.path.join(raw_data_dir,'items.json'), lines=True)\n",
    "df_items[['id']] = df_items[['id']].astype(object)\n",
    "# df_items = df_items.set_index('id', verify_integrity=True).drop('salesRank',axis=1)\n",
    "\n",
    "df_ratings = pd.read_csv(os.path.join(raw_data_dir,'ratings.csv'), sep=',', header=0)"
   ]
  },
  {
   "cell_type": "code",
   "execution_count": 63,
   "metadata": {},
   "outputs": [
    {
     "data": {
      "text/plain": [
       "asin             object\n",
       "availability    float64\n",
       "brand            object\n",
       "categories       object\n",
       "description      object\n",
       "id                int64\n",
       "imUrl            object\n",
       "name             object\n",
       "price           float64\n",
       "salesRank        object\n",
       "dtype: object"
      ]
     },
     "execution_count": 63,
     "metadata": {},
     "output_type": "execute_result"
    }
   ],
   "source": [
    "df_items.dtypes"
   ]
  },
  {
   "cell_type": "code",
   "execution_count": 25,
   "metadata": {
    "collapsed": true
   },
   "outputs": [],
   "source": [
    "assert df_items.shape[0] == len(df_ratings['item'].unique())"
   ]
  },
  {
   "cell_type": "code",
   "execution_count": 56,
   "metadata": {},
   "outputs": [
    {
     "data": {
      "text/plain": [
       "Int64Index([   2,    3,    4,    1,    5,    6,    7,    8,    9,   10,\n",
       "            ...\n",
       "            2412, 2414, 2413, 2411, 2410, 2416, 2417, 2418, 2419, 2420],\n",
       "           dtype='int64', name='id', length=2420)"
      ]
     },
     "execution_count": 56,
     "metadata": {},
     "output_type": "execute_result"
    }
   ],
   "source": [
    "ratings_grp_by_items = df_ratings.groupby(df_ratings['item'])\n",
    "df_ratings_items_count = ratings_grp_by_items.count().drop(['user'], axis=1) \\\n",
    "                                .rename(index=str, columns={'rating':'count'})\n",
    "df_ratings_items_count = df_ratings_items_count.\n",
    "df_items_ = df_items.join(df_ratings_items_count)\n",
    "# df_items_.head()\n",
    "df_items.index"
   ]
  },
  {
   "cell_type": "markdown",
   "metadata": {},
   "source": [
    "### Price Levels Analysis"
   ]
  },
  {
   "cell_type": "code",
   "execution_count": 28,
   "metadata": {},
   "outputs": [
    {
     "data": {
      "text/plain": [
       "asin             object\n",
       "availability    float64\n",
       "brand            object\n",
       "categories       object\n",
       "description      object\n",
       "imUrl            object\n",
       "name             object\n",
       "price           float64\n",
       "dtype: object"
      ]
     },
     "execution_count": 28,
     "metadata": {},
     "output_type": "execute_result"
    }
   ],
   "source": []
  },
  {
   "cell_type": "code",
   "execution_count": null,
   "metadata": {
    "collapsed": true
   },
   "outputs": [],
   "source": []
  }
 ],
 "metadata": {
  "kernelspec": {
   "display_name": "Python 3",
   "language": "python",
   "name": "python3"
  },
  "language_info": {
   "codemirror_mode": {
    "name": "ipython",
    "version": 3
   },
   "file_extension": ".py",
   "mimetype": "text/x-python",
   "name": "python",
   "nbconvert_exporter": "python",
   "pygments_lexer": "ipython3",
   "version": "3.6.2"
  }
 },
 "nbformat": 4,
 "nbformat_minor": 2
}
